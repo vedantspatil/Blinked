{
  "nbformat": 4,
  "nbformat_minor": 0,
  "metadata": {
    "colab": {
      "provenance": [],
      "authorship_tag": "ABX9TyNwayCN2jGZ3MXyhQ2G3MrW",
      "include_colab_link": true
    },
    "kernelspec": {
      "name": "python3",
      "display_name": "Python 3"
    },
    "language_info": {
      "name": "python"
    }
  },
  "cells": [
    {
      "cell_type": "markdown",
      "metadata": {
        "id": "view-in-github",
        "colab_type": "text"
      },
      "source": [
        "<a href=\"https://colab.research.google.com/github/vedantspatil/Blinked/blob/master/Copy_of_MNK.ipynb\" target=\"_parent\"><img src=\"https://colab.research.google.com/assets/colab-badge.svg\" alt=\"Open In Colab\"/></a>"
      ]
    },
    {
      "cell_type": "code",
      "execution_count": null,
      "metadata": {
        "id": "uJeDDHe7ldtA"
      },
      "outputs": [],
      "source": [
        "def getDpRow(m,n,k,h,arr):\n",
        "  dpRow = [[[0 for x in range(k+1)] for j in range(m+1)] for i in range(n+1)]\n",
        "  for i in range(1,m+1):\n",
        "    for j in range(1,n+1):\n",
        "      for k1 in range(0,k+1):\n",
        "        if(arr[i][j] == k1):\n",
        "          dpRow[i][j][k1] = 1\n",
        "        if(dpRow[i][j-1][k1-arr[i][j]] !=0):\n",
        "          dpRow[i][j][k1] = 1+dpRow[i][j-1][k1-arr[i][j]]\n",
        "  return dpRow"
      ]
    },
    {
      "cell_type": "code",
      "source": [
        "def getDpCol(m,n,k,h,arr):\n",
        "  dpCol = [[[0 for x in range(k+1)] for j in range(m+1)] for i in range(n+1)]\n",
        "  for i in range(1,m+1):\n",
        "    for j in range(1,n+1):\n",
        "      for k1 in range(0,k+1):\n",
        "        if(arr[i][j] == k1):\n",
        "          dpCol[i][j][k1] = 1\n",
        "        if(dpCol[i-1][j][k1-arr[i][j]] !=0):\n",
        "          dpCol[i][j][k1] = 1+dpCol[i-1][j][k1-arr[i][j]]\n",
        "  return dpCol"
      ],
      "metadata": {
        "id": "ZZVgRXR0qJui"
      },
      "execution_count": null,
      "outputs": []
    },
    {
      "cell_type": "code",
      "source": [
        "def preproces(m,n,k,h,arr):\n",
        "  presum = [[0 for j in range(m+1)] for i in range(n+1)]\n",
        "  for i in range(1,m+1):\n",
        "    for j in range(1,n+1):\n",
        "      presum[i][j] = arr[i][j]+presum[i][j-1]\n",
        "  \n",
        "  for i in range (2,m+1):\n",
        "    for j in range(1, n+1):\n",
        "      presum[i][j] += presum[i-1][j]\n",
        "  \n",
        "  return presum"
      ],
      "metadata": {
        "id": "SCQmcdj_qgsr"
      },
      "execution_count": null,
      "outputs": []
    },
    {
      "cell_type": "code",
      "source": [
        "def getSumMatrixSum(r1,c1,r2,c2,presum):\n",
        "  return presum[r2][c2]-presum[r2][c1-1]-presum[r1-1][c2]+presum[r1-1][c1-1]\n",
        "  "
      ],
      "metadata": {
        "id": "P-y3pbaArIR-"
      },
      "execution_count": null,
      "outputs": []
    },
    {
      "cell_type": "code",
      "source": [
        "def isValid(side,r,c):\n",
        "  return True if side <= min(r,c) else False"
      ],
      "metadata": {
        "id": "8NITs4JprZo4"
      },
      "execution_count": null,
      "outputs": []
    },
    {
      "cell_type": "code",
      "source": [],
      "metadata": {
        "id": "pmMWjXf97vjY"
      },
      "execution_count": null,
      "outputs": []
    },
    {
      "cell_type": "code",
      "source": [],
      "metadata": {
        "id": "79UwBDUg7ver"
      },
      "execution_count": null,
      "outputs": []
    },
    {
      "cell_type": "code",
      "source": [
        "m,n,k,h = 6,6,3,10\n",
        "matrix = [[4, 1, 4, 6, 3, 9],\n",
        "            [2, 4, 11, 16, 5, 1],\n",
        "            [2, 12, 41, 14, 5, 3],\n",
        "            [8, 5, 13, 4, 2, 3],\n",
        "            [3, 5, 4, 1, 3, 5],\n",
        "            [1, 5, 3, 4, 6, 1]]\n",
        "new_mat = bin_matrix(m,n,h,matrix)\n",
        "for item in new_mat:\n",
        "  print(item)\n",
        "dpRow = getDpRow(m,n,k,1,new_mat)\n",
        "dpCol = getDpCol(m,n,k,1,new_mat)\n",
        "preSum = preproces(m,n,k,1,new_mat)\n",
        "dp = [[[0 for x in range(k+1)] for j in range(m+1)] for i in range(n+1)]\n",
        "res = 0\n",
        "\n",
        "for i in range(1,m+1):\n",
        "    for j in range(1,n+1):\n",
        "      possibleSides = []\n",
        "      for item in dpRow[i][j-1]:\n",
        "        possibleSides.append(item)\n",
        "      for item in dpCol[i-1][j]:\n",
        "        possibleSides.append(item)\n",
        "      for item in dp[i-1][j-1]:\n",
        "        possibleSides.append(item)\n",
        "      \n",
        "      for side in possibleSides:\n",
        "        if(isValid(side,i,j)):\n",
        "          totalSum = getSumMatrixSum(i-side+1,j-side+1,i,j,preSum)\n",
        "          if(totalSum <=k):\n",
        "            dp[i][j][totalSum] = max(dp[i][j][totalSum],side)\n",
        "            if(side > res):\n",
        "              res = side\n",
        "              result = [res,i,j]\n",
        "print(result)"
      ],
      "metadata": {
        "colab": {
          "base_uri": "https://localhost:8080/"
        },
        "id": "qKDIGMtUrgdX",
        "outputId": "cdb3757a-ddc8-4635-e3f2-f37dfc3ce371"
      },
      "execution_count": null,
      "outputs": [
        {
          "output_type": "stream",
          "name": "stdout",
          "text": [
            "[0, 0, 0, 0, 0, 0, 0]\n",
            "[0, 0, 0, 0, 0, 0, 0]\n",
            "[0, 0, 0, 1, 1, 0, 0]\n",
            "[0, 0, 1, 1, 1, 0, 0]\n",
            "[0, 0, 0, 1, 0, 0, 0]\n",
            "[0, 0, 0, 0, 0, 0, 0]\n",
            "[0, 0, 0, 0, 0, 0, 0]\n",
            "[3, 3, 6]\n"
          ]
        }
      ]
    },
    {
      "cell_type": "code",
      "source": [
        "matrix = [[2, 4, 2, 5, 5, 5, 1, 1, 3, 2],\n",
        " [2, 1, 3, 5, 5, 5, 5, 4, 1, 2],\n",
        " [4, 3, 2, 5, 5, 5, 5, 5, 3, 1],\n",
        " [2, 4, 2, 5, 5, 5, 5, 1, 3, 2]]\n",
        "\n",
        "new_mat = bin_matrix(4,10,5,matrix)\n",
        "for item in new_mat:\n",
        "  print(item)\n",
        "print()\n",
        "# print(ALG1(m,n,h,matrix))\n",
        "\n",
        "print(ALG5B(4,10,1,new_mat))"
      ],
      "metadata": {
        "colab": {
          "base_uri": "https://localhost:8080/"
        },
        "id": "cnWszZNvl2xG",
        "outputId": "cd098608-582b-4367-a6b6-4a8bed53e925"
      },
      "execution_count": null,
      "outputs": [
        {
          "output_type": "stream",
          "name": "stdout",
          "text": [
            "[0, 0, 0, 1, 1, 1, 0, 0, 0, 0]\n",
            "[0, 0, 0, 1, 1, 1, 1, 0, 0, 0]\n",
            "[0, 0, 0, 1, 1, 1, 1, 1, 0, 0]\n",
            "[0, 0, 0, 1, 1, 1, 1, 0, 0, 0]\n",
            "\n",
            "[1, 4, 4, 7]\n"
          ]
        }
      ]
    },
    {
      "cell_type": "code",
      "source": [
        "def bin_matrix(m,n,h,matrix):\n",
        "  matrix_temp = [[0 for j in range(m+1)] for i in range(n+1)]\n",
        "  for r in range(1,m):\n",
        "    for c in range(1,n):\n",
        "      if(matrix[r-1][c-1]<h):\n",
        "        matrix_temp[r][c]=0\n",
        "      else:\n",
        "        matrix_temp[r][c]=1\n",
        "  return matrix_temp"
      ],
      "metadata": {
        "id": "d1bFmDt0mDW2"
      },
      "execution_count": null,
      "outputs": []
    }
  ]
}